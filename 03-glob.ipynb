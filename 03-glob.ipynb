{
 "cells": [
  {
   "cell_type": "code",
   "execution_count": 1,
   "metadata": {
    "collapsed": true
   },
   "outputs": [],
   "source": [
    "import glob"
   ]
  },
  {
   "cell_type": "code",
   "execution_count": 2,
   "metadata": {
    "collapsed": false
   },
   "outputs": [
    {
     "name": "stdout",
     "output_type": "stream",
     "text": [
      "['data/temperature-01.csv', 'data/temperature-02.csv', 'data/temperature-03.csv', 'data/temperature-04.csv', 'data/temperature-05.csv', 'data/temperature-06.csv', 'data/temperature-07.csv', 'data/temperature-08.csv', 'data/temperature-09.csv', 'data/temperature-10.csv', 'data/temperature-11.csv', 'data/temperature-12.csv']\n"
     ]
    }
   ],
   "source": [
    "print(glob.glob('data/temperature-*.csv'))"
   ]
  },
  {
   "cell_type": "code",
   "execution_count": 3,
   "metadata": {
    "collapsed": false
   },
   "outputs": [
    {
     "name": "stdout",
     "output_type": "stream",
     "text": [
      "data/temperature-01.csv\n",
      "2400\n",
      "data/temperature-02.csv\n",
      "2400\n",
      "data/temperature-03.csv\n",
      "2400\n",
      "data/temperature-04.csv\n",
      "2400\n",
      "data/temperature-05.csv\n",
      "2400\n",
      "data/temperature-06.csv\n",
      "2400\n",
      "data/temperature-07.csv\n",
      "2400\n",
      "data/temperature-08.csv\n",
      "2400\n",
      "data/temperature-09.csv\n",
      "2400\n",
      "data/temperature-10.csv\n",
      "2400\n",
      "data/temperature-11.csv\n",
      "2400\n",
      "data/temperature-12.csv\n",
      "2400\n"
     ]
    }
   ],
   "source": [
    "import numpy as np\n",
    "for file in glob.glob('data/temperature-*.csv'):\n",
    "    data = np.loadtxt(file, delimiter=',')\n",
    "    print(file)\n",
    "    print(data.size)"
   ]
  },
  {
   "cell_type": "code",
   "execution_count": null,
   "metadata": {
    "collapsed": true
   },
   "outputs": [],
   "source": []
  }
 ],
 "metadata": {
  "kernelspec": {
   "display_name": "Python 3",
   "language": "python",
   "name": "python3"
  },
  "language_info": {
   "codemirror_mode": {
    "name": "ipython",
    "version": 3
   },
   "file_extension": ".py",
   "mimetype": "text/x-python",
   "name": "python",
   "nbconvert_exporter": "python",
   "pygments_lexer": "ipython3",
   "version": "3.4.4"
  }
 },
 "nbformat": 4,
 "nbformat_minor": 0
}
